{
 "cells": [
  {
   "cell_type": "code",
   "execution_count": 1,
   "metadata": {},
   "outputs": [],
   "source": [
    "import os\n",
    "import pandas as pd\n",
    "import numpy as np\n"
   ]
  },
  {
   "cell_type": "code",
   "execution_count": 2,
   "metadata": {},
   "outputs": [
    {
     "data": {
      "text/plain": [
       "['houskeeping-bac.fasta',\n",
       " 'hkbac_reid.txt',\n",
       " 'corpus_br.txt',\n",
       " 'corpus_mibig.txt',\n",
       " 'corpus_mibig_word2id.pkl',\n",
       " 'corpus_mibig_id2word.pkl',\n",
       " 'corpus_mibig_word_frequency.pkl',\n",
       " 'corpus_mibig_wid2frequency.pkl',\n",
       " 'corpus_mibig_mini.txt',\n",
       " 'housekeeping-bac_maxsep.csv',\n",
       " 'housekeepingECdif.ipynb',\n",
       " '.ipynb_checkpoints',\n",
       " 'difec.csv',\n",
       " 'difec.table']"
      ]
     },
     "execution_count": 2,
     "metadata": {},
     "output_type": "execute_result"
    }
   ],
   "source": [
    "os.listdir('I:\\data\\corpus')"
   ]
  },
  {
   "cell_type": "code",
   "execution_count": 3,
   "metadata": {},
   "outputs": [],
   "source": [
    "with open('I:\\data\\corpus\\corpus_mibig.txt', 'r') as fp:\n",
    "    corpus_mibig = fp.readlines()"
   ]
  },
  {
   "cell_type": "code",
   "execution_count": 4,
   "metadata": {},
   "outputs": [
    {
     "data": {
      "text/plain": [
       "'EC:1.6.5.11 Cluster_0198348 Cluster_0762898 Cluster_0300183 Cluster_1321460 Cluster_0394599 Cluster_1805401 Cluster_1866529 Cluster_0289967 Cluster_0561280 Cluster_1583857 Cluster_1639562 Cluster_0608304 Cluster_0409832 Cluster_0840679 Cluster_1038875 Cluster_0352804 Cluster_1552942 Cluster_0988836 Cluster_0314129 Cluster_0345707 Cluster_0492924 Cluster_0673339 Cluster_0453759 Cluster_1328707 Cluster_0652876 Cluster_0480316 Cluster_1680973 Cluster_0970700 Cluster_1119276 Cluster_0876677 Cluster_1755588 Cluster_0317541 EC:2.4.99.17 Cluster_0912295 Cluster_0901791 Cluster_1274850 EC:4.1.2.13 Cluster_0511458 Cluster_1034339 Cluster_0327342 Cluster_1596927 Cluster_1477334 Cluster_0511105 Cluster_0352804 Cluster_0105496 Cluster_0967481 EC:3.6.4.9 Cluster_0211051 EC:2.7.1.30 EC:3.1.3.11 Cluster_0213988 Cluster_1834937 Cluster_1324671 EC:2.7.4.8 Cluster_1106522 Cluster_0506361 Cluster_1758525 EC:1.1.1.37 Cluster_0000864 Cluster_0109334 Cluster_1119280 Cluster_0941292 Cluster_1244733 EC:1.6.5.11 Cluster_1403985 EC:2.7.4.22 Cluster_0971311 Cluster_0380949 Cluster_1430021 Cluster_1845293 Cluster_0535517 Cluster_0805550 Cluster_1600742 EC:4.2.1.10 EC:3.6.3.28 Cluster_1667472 Cluster_0016349 EC:2.3.1.8 Cluster_1169739 Cluster_0673382 Cluster_0020279 Cluster_0996784 Cluster_0749789 Cluster_1909294 EC:2.7.6.1 Cluster_0966257 Cluster_1181499 Cluster_1689553 EC:6.3.4.6 Cluster_1696867 Cluster_0123584 EC:5.3.1.6 Cluster_0971807 Cluster_0835040 Cluster_0019973 Cluster_1220186 EC:2.7.8.13 Cluster_0814083 EC:2.7.7.8 Cluster_1435456 Cluster_0969099 Cluster_0327293 Cluster_0982259 Cluster_1707584 Cluster_1584521 EC:1.1.1.86 Cluster_0532624 EC:4.2.1.33 Cluster_0364599 Cluster_0976516 Cluster_0610929 Cluster_1628355 EC:3.1.1.96 Cluster_0838663 Cluster_0016127 Cluster_0331003 Cluster_0733621 Cluster_0874193 Cluster_1824513 Cluster_1740254 Cluster_0332189 Cluster_0139438 Cluster_0091308 Cluster_0067576 Cluster_0311329 Cluster_0787667 Cluster_1228972 Cluster_0008512 Cluster_0996241 Cluster_1617769 Cluster_0398536 Cluster_0794167 Cluster_1195830 EC:3.3.1.1 EC:2.7.2.1 Cluster_1777648 EC:3.6.3.41 Cluster_0133357 Cluster_0428855 Cluster_1330139 Cluster_1437266 Cluster_0228594 EC:1.3.5.1 Cluster_1504879 EC:2.7.7.3 EC:2.5.1.55 EC:3.6.3.28 Cluster_1528726 EC:2.3.1.129 Cluster_1077401 Cluster_1035493 EC:3.4.21.92 Cluster_0721214 Cluster_0429499 Cluster_0566539 Cluster_0263732 EC:3.6.4.12 Cluster_0578224 Cluster_1303795 Cluster_0568459 Cluster_0361060 EC:6.1.1.14 Cluster_1643110 Cluster_1540200 Cluster_0663660 Cluster_0022569 Cluster_1850108 Cluster_1795693 Cluster_1600743 Cluster_0398075 Cluster_0714723 Cluster_1455964 Cluster_0580105 Cluster_0373354 Cluster_1764983 Cluster_0239339 Cluster_1221786 Cluster_1651630 Cluster_0631076 Cluster_1635116 Cluster_0406134 Cluster_1531266 Cluster_1597791 Cluster_0047111 Cluster_0854336 Cluster_1818153 Cluster_1753193 EC:3.6.3.44 Cluster_0624133 Cluster_0801558 Cluster_0132907 Cluster_0294222 Cluster_0677165 Cluster_0139438 Cluster_0668220 Cluster_0979451 Cluster_1031411 Cluster_0077106 Cluster_1030607 Cluster_0823656 EC:1.6.5.11 EC:3.6.4.12 EC:3.6.4.12 Cluster_0671933 EC:1.6.5.11 Cluster_0369980 Cluster_0068110 Cluster_0287966 Cluster_0454476 Cluster_1108862 EC:3.6.1.31 Cluster_0846834 EC:1.2.4.1 Cluster_1446140 EC:2.7.7.6 EC:1.2.4.1 Cluster_0691529 Cluster_1823601 Cluster_1280378 Cluster_1547639 EC:1.1.1.28 Cluster_0304335 Cluster_1433860 Cluster_0410901 Cluster_0973635 Cluster_1616246 Cluster_1353147 Cluster_1425748 Cluster_0198925 EC:2.7.1.48 Cluster_0990608 Cluster_1042488 Cluster_0721213 Cluster_1451014 Cluster_0184214 Cluster_0269808 Cluster_1862108 EC:2.1.1.77 Cluster_0858863 Cluster_1196121 Cluster_0077275 Cluster_0055933 Cluster_0484398 Cluster_0501580 Cluster_0626927 Cluster_0177475 Cluster_1505072 Cluster_0230163 EC:3.1.26.3 EC:2.3.1.179 EC:3.6.5.n1 Cluster_1421576 Cluster_0858890 Cluster_0911122 Cluster_0303858 Cluster_1567861 Cluster_1660792 Cluster_1427691 EC:3.6.3.41 Cluster_0771941 Cluster_0650075 Cluster_1783748 Cluster_0694388 Cluster_1306725 Cluster_0312969 Cluster_0912295 Cluster_0022749 Cluster_1200240 EC:4.3.1.1 Cluster_0826251 Cluster_0728489 Cluster_1088109 Cluster_0601686 Cluster_1149254 EC:4.2.1.24 Cluster_1209241 Cluster_1210105 Cluster_0502712 Cluster_1310953 EC:2.3.1.117 Cluster_0444646 EC:6.3.1.2 Cluster_1351166 Cluster_1567048 Cluster_0733610 EC:3.1.22.4 Cluster_1856238 Cluster_1066773 Cluster_0912295 EC:2.2.1.2 Cluster_0089346 Cluster_0492455 Cluster_1556790 Cluster_1762676 EC:1.2.1.12 Cluster_1335965 Cluster_0745176 Cluster_1131581 EC:2.3.1.51 Cluster_1511541 Cluster_0243623 Cluster_0047107 Cluster_1042744 EC:2.7.4.3 Cluster_0826418 Cluster_0294958 Cluster_1433482 EC:1.6.5.3 EC:2.3.1.30 Cluster_1657396 EC:4.2.1.1 EC:5.99.1.3 Cluster_1811620 EC:4.3.3.6 Cluster_0318601 Cluster_0962931 Cluster_0947988 Cluster_0446763 Cluster_1890760 EC:3.6.1.66 Cluster_1791928 Cluster_0216215 Cluster_1383549 Cluster_1606284 Cluster_1674821 Cluster_0047108 Cluster_1623709 Cluster_1046655 EC:2.5.1.6 EC:1.17.1.8 Cluster_0942065 Cluster_1841688 Cluster_1801333 Cluster_1130126 Cluster_0790481 EC:1.15.1.1 Cluster_0665715 Cluster_1891212 EC:3.1.3.48 Cluster_0882171 Cluster_0060118 Cluster_1256745 EC:3.2.2.27 Cluster_1040807 EC:2.7.4.6 Cluster_0836435 Cluster_0882919 Cluster_0556801 Cluster_0465771 Cluster_0451643 Cluster_1386157 Cluster_0192347 Cluster_0207848 Cluster_1718158 Cluster_0968146 Cluster_1266069 Cluster_0849164 Cluster_0970273 Cluster_0291804 Cluster_0056583 Cluster_0152077 Cluster_0480004 Cluster_0278468 Cluster_1070279 Cluster_0970700 EC:6.4.1.2 Cluster_0265228 Cluster_0931989 Cluster_0874193 Cluster_0912295 Cluster_1159649 Cluster_1286570 Cluster_0029250 Cluster_1507506 Cluster_0701255 Cluster_1753196 Cluster_0164422 Cluster_0973111 EC:3.4.23.36 Cluster_0479756 Cluster_1317907 EC:2.1.1.170 Cluster_1891099 EC:6.3.5.5 Cluster_1006581 Cluster_1214704 Cluster_0063943 EC:2.7.1.21 EC:2.7.7.24 Cluster_1385580 Cluster_0953448 Cluster_1038424 Cluster_1857301 Cluster_1666696 Cluster_0827206 Cluster_1173394 Cluster_1454021 Cluster_1094436 Cluster_1379692 Cluster_0125897 Cluster_1164914 EC:2.7.1.11 Cluster_0169810 EC:2.7.13.3 Cluster_0047109 Cluster_1563955 Cluster_0691529 Cluster_1903106 Cluster_0414997 EC:1.11.1.6 EC:1.6.99.1 EC:1.1.1.100 EC:4.2.1.11 EC:2.3.1.181 Cluster_0211921 Cluster_0402868 Cluster_1415690 Cluster_1805325 Cluster_0815679 Cluster_1470766 Cluster_0673880 Cluster_0755829 Cluster_0957173 Cluster_0894807 Cluster_0370348 Cluster_1445280 EC:2.7.7.87 Cluster_0255692 Cluster_1878806 Cluster_0833620 Cluster_0962667 EC:2.4.2.8 EC:2.5.1.47 Cluster_0870001 Cluster_0505249 Cluster_1741444 Cluster_0931086 Cluster_1484763 EC:2.7.7.9 EC:5.1.1.3 Cluster_1467766 Cluster_1793866 Cluster_0321234 Cluster_1874557 Cluster_0478619 Cluster_0638518 Cluster_1497524 Cluster_1454021 Cluster_0933019 Cluster_1325666 Cluster_1245317 Cluster_1861403 Cluster_1344795 Cluster_0647625 Cluster_0552655 Cluster_0448275 EC:4.1.3.27 EC:4.2.1.46 Cluster_1344798 Cluster_0465967 EC:2.5.1.47 Cluster_0539486 Cluster_1008071 Cluster_1192309 Cluster_1250747 Cluster_0133746 Cluster_0701255 EC:1.6.5.3 Cluster_1315019 Cluster_0310710 Cluster_0401416 Cluster_0028128 Cluster_1012057 Cluster_1728431 Cluster_0169359 Cluster_1716669 Cluster_1724608 EC:3.5.1.88 Cluster_1374484 Cluster_1753195 Cluster_1296014 Cluster_1915010 Cluster_1047771 Cluster_0877799 Cluster_1010390 Cluster_0281635 Cluster_0912295 Cluster_1358354 Cluster_0148421 Cluster_0564491 EC:6.1.1.20 Cluster_1844513 Cluster_1070127 Cluster_1395485 Cluster_0822726 Cluster_0213060 Cluster_0210314 Cluster_1888279 Cluster_1688205 EC:3.1.26.5 Cluster_0100559 Cluster_1230931 EC:2.1.1.198 Cluster_1415454 EC:4.2.1.1 EC:6.1.1.2 Cluster_0694435 Cluster_0917567 Cluster_1287401 EC:1.1.1.100 Cluster_0406699 Cluster_1464881 Cluster_0042701 Cluster_1288049 Cluster_1702515 Cluster_0271031 Cluster_0443049 Cluster_1388643 EC:1.1.1.85 Cluster_0609099 Cluster_1002439 Cluster_0161027 Cluster_0185975 Cluster_1596055 Cluster_0138277 Cluster_1855725 Cluster_0358660 Cluster_0124240 EC:6.2.1.5 Cluster_1422016 Cluster_1123564 Cluster_1571545 Cluster_0882171 EC:2.5.1.78 Cluster_0513864 Cluster_0404609 Cluster_0902356 EC:2.1.1.163 Cluster_0849597 Cluster_0700356 Cluster_0917566 Cluster_0584592 Cluster_1771524 Cluster_0818461 EC:5.3.3.2 Cluster_1523855 Cluster_0984914 Cluster_1787479 Cluster_1582484 Cluster_1513875 Cluster_1605314 Cluster_0245226 EC:6.2.1.3 Cluster_1484786 Cluster_0011904 Cluster_0933398 EC:2.1.1.72 Cluster_1335965 Cluster_0411606 Cluster_1335572 Cluster_0164411 EC:2.3.1.108 EC:5.3.1.1 Cluster_1451402 Cluster_1034088 Cluster_0085482 EC:2.8.4.4 Cluster_1456679 Cluster_1025278 Cluster_1121618 EC:1.8.1.9 Cluster_1737119 Cluster_1484763 Cluster_1362814 Cluster_1046641 EC:4.2.3.5 Cluster_0257405 Cluster_0259505 Cluster_0184898 Cluster_1601499 Cluster_1362709 Cluster_1753236 Cluster_1379561 EC:4.2.3.4 Cluster_0459160 Cluster_1525207 Cluster_0317972 Cluster_0110501 Cluster_0670856 Cluster_0751299 Cluster_1629475 Cluster_1658601 Cluster_1582028 EC:6.1.1.9 Cluster_1841688 EC:2.3.1.39 Cluster_0305921 Cluster_1794289 Cluster_1075293 Cluster_1294253 Cluster_1600959 Cluster_1741437 Cluster_1741438 Cluster_0834537 Cluster_1741440 Cluster_0312974 EC:2.1.1.297 Cluster_0034558 Cluster_1721143 EC:3.5.1.108 EC:2.3.1.191 Cluster_0202540 Cluster_0350197 Cluster_1441387 Cluster_0669534 Cluster_0095410 EC:1.1.1.95 EC:2.6.1.52 Cluster_0685389 Cluster_0792116 EC:4.3.3.7 Cluster_0788514 Cluster_0281860 Cluster_0092771 Cluster_0784292 Cluster_0976135 Cluster_0591221 EC:1.2.4.2 EC:5.1.3.1 EC:1.6.5.3 EC:1.1.1.170 Cluster_1058093 Cluster_1621152 Cluster_0061825 EC:2.6.1.57 EC:1.3.1.98 EC:2.7.1.130 Cluster_0312971 Cluster_1273234 Cluster_0865304 Cluster_0184664 Cluster_0452874 EC:3.6.4.12 Cluster_1787323 Cluster_1741438 Cluster_0164419 EC:2.6.1.50 Cluster_0364569 Cluster_1914574 Cluster_0856684 EC:2.7.1.35 EC:3.4.21.107 Cluster_0826651 Cluster_0287969 Cluster_1575241 Cluster_0517355 Cluster_0275113 Cluster_0108909 Cluster_1226812 Cluster_1713342 EC:2.7.4.1 Cluster_0627771 EC:3.1.3.5 Cluster_0201138 EC:4.4.1.8 Cluster_1149254 Cluster_0787074 Cluster_0620867 Cluster_1141962 EC:5.99.1.3 EC:5.99.1.3 Cluster_0740981 Cluster_1279294 Cluster_1814246 Cluster_0248217 Cluster_0647097 Cluster_0259505 Cluster_0455364 Cluster_0101756 Cluster_0257550 Cluster_1091577 Cluster_1723279 Cluster_0452880 Cluster_0147665 Cluster_0452879 Cluster_0147665 Cluster_0452879 Cluster_0147665 Cluster_1748307 Cluster_0147665 Cluster_0452879 Cluster_0147665 Cluster_1748307 Cluster_0147665 Cluster_1344796 Cluster_1345435 Cluster_1202069 Cluster_0087115 Cluster_0627041 Cluster_0811173 Cluster_0903499 Cluster_1719335 Cluster_1325699 Cluster_0587847 Cluster_0580487 Cluster_0784297 Cluster_1164620 Cluster_0991556 Cluster_0559313 Cluster_0360865 Cluster_1683588 EC:3.5.1.2 Cluster_0144694 Cluster_0120869 Cluster_1898995 Cluster_0820000 Cluster_0397716 Cluster_0058281 Cluster_0058281 Cluster_0058281 Cluster_0058281 EC:2.7.1.71 Cluster_0126146 Cluster_1089673 Cluster_1770094 Cluster_0560165 Cluster_0103640 Cluster_0016521 Cluster_1112323 Cluster_1486932 Cluster_1802643 Cluster_1112737 EC:6.3.5.2 Cluster_1865957 EC:3.4.11.4 Cluster_0759597 Cluster_0252476 EC:3.6.4.12 EC:4.1.1.49 Cluster_0531267 Cluster_0531267 Cluster_1492311 Cluster_1107542 Cluster_1107542 Cluster_1037984 EC:3.5.4.10 Cluster_0164409 Cluster_0917165 Cluster_0559264 Cluster_0923304 Cluster_1128703 Cluster_1344794 Cluster_0841739 EC:5.1.99.6 Cluster_0736641 Cluster_1806830 Cluster_0540561 Cluster_0169517 Cluster_0789792 Cluster_0542494 Cluster_1666846 Cluster_0789792 EC:3.2.1.3 Cluster_0576965 EC:5.3.1.9 Cluster_1318252 Cluster_1318252 Cluster_0035174 Cluster_0784298 Cluster_1393666 Cluster_1883662 Cluster_1883662 Cluster_0970273 Cluster_0100555 Cluster_1728150 Cluster_1038424 Cluster_0196733 Cluster_1741441 Cluster_1057424 Cluster_1561379 EC:6.3.4.21 Cluster_1205007 Cluster_1064241 EC:2.3.3.16 Cluster_1273196 Cluster_0954120 Cluster_0334456 Cluster_1586882 Cluster_1837111 Cluster_1634463 Cluster_1418603 Cluster_1604226 Cluster_1230928 Cluster_0629380 Cluster_1399054 Cluster_1034718 Cluster_1690121 Cluster_0916323 Cluster_0592428 Cluster_1246475 Cluster_1767310 EC:3.6.4.12 Cluster_1013256 Cluster_0529518 Cluster_0620688 Cluster_1133149 Cluster_0819313 Cluster_1866381 Cluster_1643379 Cluster_0412726 Cluster_0017345 Cluster_0647625 Cluster_0066916 Cluster_0370454 Cluster_1794670 Cluster_0284629 Cluster_1276261 EC:6.1.1.6 Cluster_0038910 Cluster_0062611 Cluster_0516831 EC:6.4.1.2 EC:2.7.1.191 Cluster_1734175 Cluster_0270089 Cluster_1088363 Cluster_1156376 Cluster_0419221 Cluster_1806061 Cluster_0424671 Cluster_1741438 Cluster_0184664 EC:1.8.1.4 Cluster_1079536 Cluster_1359186 Cluster_0152144 Cluster_0305755 Cluster_0807042 EC:2.4.2.7 Cluster_0104707 Cluster_0901555 Cluster_0531314 Cluster_0971311 Cluster_0574815 Cluster_0117452 Cluster_1772341 EC:3.4.11.18 Cluster_0322756 Cluster_1075130 Cluster_1353147 Cluster_0286767 Cluster_0560165 Cluster_0968728 Cluster_1457571 Cluster_0684337 Cluster_1762236 Cluster_0415261 Cluster_0784291 Cluster_0784291 Cluster_0259505 Cluster_0599737 EC:6.1.1.11 Cluster_0811494 EC:3.6.4.12 Cluster_1792079 Cluster_1299293 EC:3.6.4.12 Cluster_0874858 Cluster_1869147 Cluster_0451633 Cluster_1728391 Cluster_0998258 Cluster_1738111 Cluster_0253422 Cluster_1758789 Cluster_0761067 Cluster_0473223 EC:3.4.21.26 EC:2.7.1.4 Cluster_0993819 Cluster_0063402 Cluster_0687686 Cluster_0986884 EC:3.6.1.23 Cluster_1646517 Cluster_1734250 EC:4.99.1.1 Cluster_0709593 Cluster_0242088 EC:4.1.1.20 Cluster_0452872 Cluster_1134570 Cluster_0321234 Cluster_1806054 Cluster_0719298 Cluster_0452875 Cluster_0927304 Cluster_1865001 Cluster_0698252 Cluster_0464882 Cluster_1686962 EC:2.1.1.13 Cluster_0300408 Cluster_0743484 Cluster_1678386 Cluster_0087115 Cluster_1100784 Cluster_0898725 Cluster_1834227 EC:2.1.1.13 Cluster_0019973 Cluster_1896150 Cluster_0755829 Cluster_0836435 Cluster_0650783 Cluster_1364189 EC:2.3.1.12 Cluster_1499841 Cluster_0742073 Cluster_1275676 EC:2.3.1.9 Cluster_1487756 Cluster_1186570 Cluster_1229073 Cluster_0667081 EC:2.4.2.17 EC:1.1.1.23 EC:2.6.1.9 EC:4.2.1.19 EC:5.3.1.16 Cluster_0676443 EC:6.5.1.2 Cluster_0306791 Cluster_1183497 Cluster_0409545 Cluster_0986134 EC:3.4.13.21 Cluster_0154184 EC:6.1.1.12 Cluster_1164203 Cluster_1356678 Cluster_1017559 EC:6.3.2.10 Cluster_1492253 Cluster_0853903 EC:2.5.1.31 Cluster_1225045 Cluster_0505806 Cluster_0498466 Cluster_1762693 Cluster_0712964 Cluster_0087115 Cluster_0768317 Cluster_1209230 Cluster_0467997 Cluster_0515880 Cluster_0591636 Cluster_1730249 Cluster_1647751 Cluster_0839379 Cluster_1021965 Cluster_0133226 Cluster_0533319 Cluster_0345527 Cluster_1579707 Cluster_0457316 Cluster_0598420 EC:6.1.1.3 Cluster_0183953 EC:3.5.2.3 Cluster_0278468 Cluster_0341827 Cluster_1416914 EC:1.6.5.3 Cluster_1741436 Cluster_0224358 EC:2.7.2.4 EC:2.7.1.39 EC:4.2.3.1 Cluster_0052113 Cluster_1048750 EC:2.1.1.228 Cluster_0047105 Cluster_1264929 Cluster_0246266 EC:3.6.4.12 Cluster_1230921 Cluster_1179348 Cluster_0309490 EC:3.6.3.41 EC:3.6.3.4 Cluster_0487688 Cluster_0729478 Cluster_0607409 Cluster_0575638 EC:2.7.7.9 Cluster_0626811 Cluster_0812614 Cluster_1022297 Cluster_0789490 Cluster_1626955 Cluster_0179174 Cluster_1550941 Cluster_0836750 EC:4.1.1.37 Cluster_1845293 EC:5.99.1.2 Cluster_0237608 Cluster_1861847 Cluster_1652984 Cluster_0338750 Cluster_0954685 Cluster_0110482 Cluster_1005469 EC:2.8.1.8 Cluster_0672356 Cluster_0237069 Cluster_0404839 Cluster_0411949 EC:6.3.3.2 Cluster_1727382 Cluster_0461317 Cluster_0827207 Cluster_0461317 Cluster_0364875 Cluster_0133357 Cluster_1595879 EC:6.2.1.5 Cluster_1379107 Cluster_1379107 EC:5.4.2.11 Cluster_1301386 Cluster_1169674 Cluster_1172812 Cluster_1256629 Cluster_0457890 Cluster_1595408 Cluster_1210789 Cluster_0145908 Cluster_1482333 Cluster_0512425 Cluster_1326129 EC:2.4.1.129 Cluster_1797432 Cluster_0689270 Cluster_1700936 Cluster_1108080 Cluster_0345686 Cluster_1700936 Cluster_0533013 Cluster_0721422 Cluster_1467946 EC:3.1.26.11 Cluster_0434098 Cluster_0418900 EC:5.4.3.8 Cluster_1731985 Cluster_0656495 Cluster_1700351 Cluster_1700351 Cluster_0337044 Cluster_0400040 Cluster_1730852 Cluster_1856606 Cluster_1628997 Cluster_0858235 Cluster_0392830 Cluster_0138277 Cluster_0452885 Cluster_0917566 Cluster_0647142 Cluster_0944312 Cluster_0623522 Cluster_1909759 Cluster_1270615 Cluster_1367679 Cluster_0355176 Cluster_0501629 Cluster_1071587 Cluster_0452877 Cluster_1741433 Cluster_0497739 Cluster_1338720 Cluster_0836295 Cluster_0501548 Cluster_0276765 EC:2.4.2.10 Cluster_1843261 EC:2.7.7.18 EC:4.3.99.3 EC:1.11.1.15 Cluster_1367146 Cluster_0586858 Cluster_1736917 EC:6.3.1.5 Cluster_1354660 Cluster_0191267 Cluster_1298215 Cluster_1440683 Cluster_0397872 Cluster_0178887 EC:5.1.3.6 EC:1.1.1.136 Cluster_0047681 Cluster_1734955 EC:3.6.3.40 Cluster_0605410 EC:1.1.1.22 Cluster_0745733 Cluster_0586150 Cluster_1423190 EC:2.6.1.1 Cluster_0117452 Cluster_1571738 Cluster_0689379 Cluster_0070446 EC:3.4.14.5 Cluster_1089492 Cluster_0224353 Cluster_0676216 Cluster_0924447 EC:4.2.1.20 EC:5.3.1.24 Cluster_0094749 Cluster_1359610 EC:2.4.2.18 Cluster_0731528 EC:4.1.3.27 EC:4.2.1.20 Cluster_0709132 Cluster_0303148 Cluster_0461316 Cluster_0826418 Cluster_0882076 Cluster_0864922 EC:3.1.1.23 Cluster_0521855 EC:2.3.2.6 EC:2.5.1.61 EC:1.2.1.70 Cluster_0242057 EC:5.4.99.12 Cluster_0179808 Cluster_1626955 Cluster_1016465 Cluster_1604226 EC:2.7.2.3 EC:2.1.1.33 Cluster_0549288 Cluster_0682656 Cluster_1005146 Cluster_1278801 Cluster_1681301 Cluster_0091311 Cluster_1011779 Cluster_0264338 Cluster_0938319 Cluster_1270617 Cluster_1741435 Cluster_1270617 Cluster_1429313 Cluster_1914570 Cluster_0923550 Cluster_0414502 Cluster_0322756 Cluster_1526583 EC:4.2.1.81 Cluster_0519424 Cluster_0360865 Cluster_1483302 Cluster_1756200 Cluster_0574001 Cluster_0912507 EC:1.1.5.3 EC:1.1.5.3 EC:4.1.3.36 Cluster_0231832 Cluster_1667029 EC:2.4.1.182 EC:3.2.1.96 EC:2.4.2.29 Cluster_0147665 Cluster_0452879 Cluster_0147665 Cluster_1748307 Cluster_0147665 Cluster_1344796 Cluster_1799501 Cluster_0309426 Cluster_1700936 Cluster_0814465 Cluster_0244912 Cluster_1106073 EC:1.1.1.25 Cluster_0597192 Cluster_0224776 Cluster_0886357 Cluster_1323738 Cluster_1424709 Cluster_0864922 Cluster_0605407 EC:5.1.1.1 Cluster_0667396 Cluster_1584072 Cluster_1768737 Cluster_1075293 Cluster_0042888 Cluster_0042888 Cluster_0642260 Cluster_0138277 Cluster_0147665 EC:4.2.1.3 Cluster_0895737 Cluster_0397228 EC:3.1.26.4 Cluster_0006324 Cluster_1149230 Cluster_0031203 Cluster_0480005 EC:6.1.1.1 Cluster_1263343 Cluster_0239340 Cluster_1668691 Cluster_1668691 EC:2.7.7.38 EC:1.1.3.48 Cluster_0998848 Cluster_0457961 Cluster_0986877 Cluster_0871330 EC:2.8.4.3 Cluster_0304335 Cluster_0285571 Cluster_1780145 Cluster_0616945 EC:2.8.1.13 Cluster_0928889 Cluster_0239043 Cluster_1397073 Cluster_1072311 EC:2.1.1.14 Cluster_1046658 Cluster_0321203 Cluster_1217360 Cluster_1233773 Cluster_0464297 Cluster_0474201 Cluster_0564091 EC:1.4.7.1 EC:1.4.1.13 EC:1.6.5.3 Cluster_1753197 EC:2.1.1.192 Cluster_1699057 Cluster_1837898 Cluster_0837357 Cluster_0995145 Cluster_1221504 Cluster_0128704 Cluster_0001097 Cluster_0029250 Cluster_1698340 Cluster_1698340 Cluster_0604145 Cluster_0604145 Cluster_0604145 Cluster_0386912 EC:3.4.21.53 Cluster_1434676 Cluster_1316379 Cluster_1289998 Cluster_0709751 Cluster_1780544 Cluster_0526096 EC:6.3.5.5 EC:2.1.3.2 EC:3.2.1.3 Cluster_1450579 Cluster_1574479 Cluster_1036579 Cluster_0116598 EC:2.7.1.40 Cluster_0470094 Cluster_1181536 EC:3.1.21.4 Cluster_1454854 EC:6.1.1.18 Cluster_1305822 Cluster_0760665 Cluster_0670590 Cluster_1123946 EC:3.2.1.3 Cluster_0307508 EC:4.2.1.2 Cluster_1303637 EC:6.3.2.8 EC:2.4.1.227 EC:6.3.2.9 EC:6.3.2.13 Cluster_0230212 Cluster_0148381 Cluster_1511419 Cluster_1836585 Cluster_0143940 Cluster_0804236 Cluster_0674700 EC:2.1.2.11 EC:3.6.1.27 Cluster_1325162 EC:2.1.1.182 Cluster_1370235 Cluster_0929798 Cluster_1570333 Cluster_0451635 Cluster_0312547 EC:2.1.1.223 EC:2.7.13.3 Cluster_1540751 EC:3.6.3.41 Cluster_1196860 Cluster_0298748 Cluster_0478619 EC:4.3.2.1 Cluster_1517997 Cluster_1260794 Cluster_0342891 EC:2.6.1.11 Cluster_0508818 EC:1.2.1.38 EC:6.3.4.5 Cluster_1642351 Cluster_0542494 Cluster_1623563 Cluster_1064971 Cluster_1372903 Cluster_0417016 EC:6.1.1.17 Cluster_1149230 EC:2.1.1.197 Cluster_0257405 EC:4.2.1.9 EC:4.2.1.33 Cluster_0224191 EC:2.5.1.1 Cluster_1355730 Cluster_1783856 Cluster_0414502 EC:2.1.2.9 Cluster_1036579 Cluster_1651594 Cluster_1741393 Cluster_1072348 Cluster_1036009 Cluster_1651861 Cluster_1174920 Cluster_1174920 EC:2.7.7.48 Cluster_0206609 Cluster_0762359 Cluster_1206474 Cluster_1399589 Cluster_0617463 Cluster_1433853 Cluster_0130209 Cluster_0107315 Cluster_0047104 Cluster_1047769 Cluster_1344793 Cluster_1344793 Cluster_1539902 Cluster_1539902 Cluster_1539902 Cluster_1194337 Cluster_0982998 EC:6.1.1.5 Cluster_1386013 EC:6.1.1.20 Cluster_1075293 Cluster_0452885 Cluster_1741442 Cluster_0917566 Cluster_0312972 Cluster_0917566 Cluster_1741442 Cluster_0917566 Cluster_0312972 Cluster_0917566 Cluster_0312973 Cluster_0917566 Cluster_1741442 Cluster_0312973 Cluster_0917566 Cluster_1741442 Cluster_0917566 Cluster_1806059 Cluster_1138019 Cluster_1657215 Cluster_0678798 Cluster_1131581 Cluster_0115489 Cluster_1903838 EC:3.1.1.3 EC:3.1.1.3 Cluster_0498466 Cluster_0618727 EC:3.1.1.29 Cluster_0591296 Cluster_1368624 Cluster_1256590 Cluster_1119275 Cluster_0442068 Cluster_0530864 Cluster_1613019 EC:5.1.3.2 EC:2.1.2.1 Cluster_0117442 Cluster_0041051 Cluster_1707449 EC:3.6.4.13 Cluster_0464483 Cluster_0036919 Cluster_0001180 Cluster_0361188 Cluster_0866943 Cluster_0466606 Cluster_0733610 EC:6.3.4.19 Cluster_1765601 Cluster_1719819 Cluster_0621167 Cluster_1000261 Cluster_1049350 Cluster_0942734 Cluster_1091070 Cluster_1091070 Cluster_1397137 Cluster_1741439 Cluster_0452884 Cluster_0843441 Cluster_1047766 Cluster_0955730 Cluster_0198319 Cluster_1385420 Cluster_0836823 Cluster_0473781 Cluster_1772428 Cluster_0028129 Cluster_0967852 Cluster_0912635 Cluster_0597017 Cluster_0553991 Cluster_0356732 Cluster_0452882 Cluster_0450316 Cluster_1123363 Cluster_0714187 Cluster_1759635 Cluster_0218093 Cluster_0521855 Cluster_1034744 Cluster_1879791 Cluster_0410901 Cluster_1034744 EC:2.2.1.9 Cluster_1454854 Cluster_0132384 Cluster_0579578 Cluster_1542529 Cluster_0807493 Cluster_1902660 EC:3.6.1.1 Cluster_0105503 Cluster_0598388 Cluster_1356678 Cluster_1145357 Cluster_0361096 Cluster_1180126 Cluster_1225260 Cluster_0515769 Cluster_0289773 Cluster_1681726 Cluster_1110989 Cluster_1608203 EC:6.1.1.19 Cluster_1351327 EC:3.6.4.12 Cluster_1818036 Cluster_1818036 Cluster_1021965 Cluster_1324949 EC:2.6.1.11 EC:2.4.2.1 Cluster_0110240 Cluster_0445383 Cluster_0102654 Cluster_0599651 Cluster_0411335 Cluster_1204982 Cluster_0049074 EC:4.1.1.65 EC:3.5.4.9 Cluster_1316733 Cluster_0259505 Cluster_0675645 Cluster_1791027 Cluster_0156856 Cluster_0185836 Cluster_0029250 Cluster_0912005 Cluster_0224290 Cluster_1379107 Cluster_0826889 EC:1.1.1.42 EC:6.2.1.3 Cluster_1610760 Cluster_0569980 Cluster_0416965 Cluster_1291230 Cluster_1243223 EC:6.3.2.1 Cluster_1030314 EC:2.6.1.16 EC:5.4.2.12 EC:5.4.99.25 Cluster_1794780 Cluster_1641351 Cluster_0216068 EC:5.1.3.3 Cluster_1640956 Cluster_1640956 Cluster_0361715 Cluster_1278193 Cluster_0461315 Cluster_1278193 Cluster_0940249 Cluster_1074380 EC:6.1.1.16 EC:3.5.4.16 Cluster_1326636 Cluster_1014286 Cluster_1200962 EC:2.7.7.72 Cluster_0822461 Cluster_0280973 Cluster_0127763 EC:6.3.4.2 Cluster_1245506 EC:4.2.1.2 Cluster_0234168 Cluster_0462377 Cluster_1635269 Cluster_0235723 Cluster_1619086 EC:2.7.4.25 Cluster_0361097 EC:5.1.1.7 Cluster_0169883 Cluster_0836435 Cluster_1756200 EC:1.1.1.205 Cluster_0145945 EC:2.1.1.33 Cluster_1843911 EC:3.6.3.14 EC:2.7.7.2 Cluster_0250452 Cluster_1104778 Cluster_1794627 Cluster_0521373 Cluster_1063171 Cluster_0061739 Cluster_0351375 EC:3.1.26.11 Cluster_0614931 EC:2.7.2.11 Cluster_0105496 Cluster_1401667 EC:3.6.4.12 EC:2.4.2.9 Cluster_0268596 Cluster_1525977 Cluster_0166645 Cluster_1226812 Cluster_0734852 EC:2.6.1.50 EC:3.2.1.23 Cluster_0372249 Cluster_0294732 Cluster_1357819 EC:2.5.1.19 Cluster_0816916 Cluster_0297696 Cluster_1881752 Cluster_0980986 Cluster_0593390 EC:3.5.1.28 Cluster_0071075 EC:6.3.5.4 Cluster_1591283 Cluster_1231546 Cluster_0278051 Cluster_0047106 Cluster_1074380 Cluster_1892056 Cluster_0837357 Cluster_1028953 Cluster_0380867 Cluster_1696955 EC:2.4.1.250 Cluster_1814573 EC:4.4.1.1 Cluster_0678214 Cluster_0360865 Cluster_0884432 Cluster_0575456 Cluster_0776505 Cluster_0617127 Cluster_0200920 Cluster_1580652 Cluster_0621583 Cluster_1741434 Cluster_1064010 EC:3.6.4.13 Cluster_1865914 Cluster_1629475 Cluster_1905097 Cluster_1129053 Cluster_0473999 EC:2.7.1.24 Cluster_0338158 Cluster_0823939 Cluster_1601664 Cluster_0767201 Cluster_0559525 Cluster_0153066 Cluster_1487794 EC:4.1.99.22 Cluster_1334730 EC:2.7.7.77 EC:2.7.7.80 Cluster_1268375 Cluster_0539446 Cluster_1845293 Cluster_0815679 Cluster_0570252 Cluster_1511723 Cluster_0146690 Cluster_1484771 Cluster_0452876 Cluster_1741432 Cluster_1075293 Cluster_1091070 Cluster_1091070 Cluster_1091070 Cluster_1397137 Cluster_1753798 Cluster_1189500 Cluster_0838389 Cluster_0836823 Cluster_0354436 Cluster_0684554 Cluster_1606284 Cluster_0684554 Cluster_1744737 Cluster_0138277 Cluster_1075293 Cluster_1420078 EC:1.18.1.2 Cluster_1698652 Cluster_0385013 Cluster_0929395 Cluster_0696182 Cluster_1448250 Cluster_0768319 Cluster_0130919 Cluster_0754440 Cluster_0470435 Cluster_1781987 Cluster_0995149 EC:2.7.1.23 Cluster_0051387 Cluster_0138543 Cluster_0427252 Cluster_0002907 Cluster_0244914 Cluster_0957574 Cluster_0559490 Cluster_0517451 Cluster_1000686 Cluster_1209314 Cluster_1511140 Cluster_1806487 Cluster_1547032 Cluster_0730030 Cluster_0265935 Cluster_1612605 Cluster_0711025 Cluster_0715851 Cluster_1621151 Cluster_1353374 Cluster_1738777 Cluster_1174607 Cluster_0710339 Cluster_1640398 Cluster_0725037 Cluster_0452873 Cluster_1607109 Cluster_0961479 EC:2.1.1.45 Cluster_0270275 EC:6.1.1.22 Cluster_0579307 Cluster_0884560 EC:1.3.98.1 Cluster_1008076 EC:6.1.1.10 Cluster_1250745 Cluster_0309426 Cluster_1004938 Cluster_1688197 Cluster_1748636 Cluster_1905097 Cluster_0373132 Cluster_1270616 Cluster_0830507 Cluster_1855725 Cluster_1855725 Cluster_1855725 Cluster_0830507 Cluster_0075040 Cluster_1809728 Cluster_1855725 Cluster_1809728 Cluster_1040516 Cluster_0272288 Cluster_0042888 Cluster_0042888 Cluster_0042888 Cluster_1806320 Cluster_1075293 Cluster_0912295 Cluster_0085009 EC:6.3.4.4 Cluster_0147668 Cluster_0927525 Cluster_1621153 EC:3.6.4.13 Cluster_1516940 Cluster_0827204 Cluster_1802691 Cluster_0254430 Cluster_0885097 Cluster_1109891 Cluster_1234114 Cluster_0745732 Cluster_0739048 Cluster_0461970 Cluster_0277928 Cluster_1780202 Cluster_1502029 Cluster_0452883 EC:3.6.3.4 EC:1.17.99.6 EC:1.4.3.5 Cluster_0924464 Cluster_1070950 Cluster_1195088 Cluster_0601897 Cluster_0071075 Cluster_1742516 EC:5.99.1.3 Cluster_1477171 Cluster_1585644 Cluster_0737607 EC:2.8.1.7 Cluster_0314483 EC:3.4.23.36 Cluster_1807268 EC:3.5.1.88 Cluster_0931643 Cluster_1777649 EC:2.3.1.234 Cluster_0989184 EC:1.8.1.4 Cluster_0090214 Cluster_1884389 Cluster_1074962 EC:2.1.1.72 Cluster_0091989 EC:2.8.4.4 Cluster_0519424 Cluster_0844345 Cluster_1322302 EC:6.1.1.7 Cluster_1053257 Cluster_0982999 Cluster_1063598 EC:2.7.7.7 Cluster_1121844 Cluster_1806064 Cluster_0872214 Cluster_1598479 Cluster_0363511 Cluster_1771898 Cluster_0936681 Cluster_0970525 Cluster_0145908 Cluster_0984361 Cluster_0101000 Cluster_0231832 Cluster_0035866 Cluster_1212869 Cluster_0312751 EC:2.1.1.199 Cluster_0052449 Cluster_1863058 EC:4.1.99.12 EC:2.7.7.7 Cluster_1600580 Cluster_0653825 Cluster_0056583 Cluster_0866640 EC:6.1.1.4 EC:5.3.1.13 Cluster_0245226 EC:2.5.1.7 Cluster_1308862 EC:6.3.2.4 Cluster_0251619 Cluster_1896148 Cluster_0770991 EC:6.1.1.21 Cluster_1344917 EC:6.1.1.15 Cluster_0227379 EC:1.8.4.12 Cluster_0973966 Cluster_0375858 Cluster_0464483 Cluster_0289633 Cluster_1256587 Cluster_0574002 Cluster_1698340 Cluster_1414505 EC:5.2.1.8 Cluster_1786961 Cluster_0738974 Cluster_0111548 Cluster_0452878 Cluster_0793980 Cluster_0539866 Cluster_1690668 Cluster_0553691 Cluster_0920754 Cluster_0237071 Cluster_1877011 Cluster_0172813 Cluster_0832007 Cluster_1866169 Cluster_0696348 Cluster_0613647 Cluster_1270614 Cluster_1001624 Cluster_0970525 Cluster_0559313 Cluster_1324087 Cluster_1159649 Cluster_1201862 Cluster_0546050 Cluster_0936345 Cluster_1145220 Cluster_1145220 Cluster_1423736 EC:2.1.1.37 Cluster_0364599 Cluster_0680903 Cluster_1070265 Cluster_0913056 EC:6.3.4.3 Cluster_1456679 Cluster_0922463 EC:2.5.1.75 Cluster_0966832 EC:2.7.7.87 Cluster_1396204 Cluster_1759358 EC:1.8.4.11 EC:1.2.1.41 Cluster_1177084 EC:3.2.1.20 Cluster_0843843 Cluster_0843843 Cluster_0452881 Cluster_0145860 EC:3.6.4.13 Cluster_0598472 Cluster_1741443 Cluster_0523177 Cluster_0541180 Cluster_0463095 Cluster_1444914 Cluster_1540847 EC:3.2.1.28 EC:3.6.3.27 Cluster_1193853 Cluster_1707517 Cluster_1591682 Cluster_1539901 Cluster_0410901 Cluster_1006174\\n'"
      ]
     },
     "execution_count": 4,
     "metadata": {},
     "output_type": "execute_result"
    }
   ],
   "source": [
    "corpus_mibig[0]"
   ]
  },
  {
   "cell_type": "code",
   "execution_count": 5,
   "metadata": {},
   "outputs": [],
   "source": [
    "EC_count = 0\n",
    "cluster_id_count = 0\n",
    "unknown_count = 0\n",
    "for line in corpus_mibig:\n",
    "    line = line.split()\n",
    "    for word in line:\n",
    "        if 'EC:' in word:\n",
    "            EC_count += 1\n",
    "        elif 'Cluster' in word:\n",
    "            cluster_id_count += 1\n",
    "        else:\n",
    "            unknown_count += 1\n"
   ]
  },
  {
   "cell_type": "code",
   "execution_count": 6,
   "metadata": {},
   "outputs": [
    {
     "name": "stdout",
     "output_type": "stream",
     "text": [
      "24587160\n",
      "94531593\n",
      "156\n",
      "119118909\n"
     ]
    }
   ],
   "source": [
    "print(EC_count)\n",
    "print(cluster_id_count)\n",
    "print(unknown_count)\n",
    "print(EC_count+cluster_id_count+unknown_count)"
   ]
  },
  {
   "cell_type": "code",
   "execution_count": 8,
   "metadata": {},
   "outputs": [
    {
     "name": "stdout",
     "output_type": "stream",
     "text": [
      "20.64085392185719\n",
      "79.35901511656726\n",
      "0.00013096157554633078\n"
     ]
    }
   ],
   "source": [
    "sum_count = 119118909\n",
    "print(EC_count/sum_count*100)\n",
    "print(cluster_id_count/sum_count*100)\n",
    "print(unknown_count/sum_count*100)"
   ]
  },
  {
   "cell_type": "code",
   "execution_count": 9,
   "metadata": {},
   "outputs": [],
   "source": [
    "from collections import defaultdict\n",
    "ECs_count = defaultdict(int)\n",
    "clusters_count = defaultdict(int)"
   ]
  },
  {
   "cell_type": "code",
   "execution_count": 11,
   "metadata": {},
   "outputs": [],
   "source": [
    "for line in corpus_mibig:\n",
    "    line = line.split()\n",
    "    for word in line:\n",
    "        if 'EC:' in word:\n",
    "            ECs_count[word] += 1\n",
    "        elif 'Cluster' in word:\n",
    "            clusters_count[word] += 1 "
   ]
  },
  {
   "cell_type": "code",
   "execution_count": 13,
   "metadata": {},
   "outputs": [
    {
     "name": "stdout",
     "output_type": "stream",
     "text": [
      "3629\n",
      "1915150\n"
     ]
    }
   ],
   "source": [
    "print(len(ECs_count))\n",
    "print(len(clusters_count))\n"
   ]
  },
  {
   "cell_type": "code",
   "execution_count": 14,
   "metadata": {},
   "outputs": [
    {
     "data": {
      "text/plain": [
       "1918780"
      ]
     },
     "execution_count": 14,
     "metadata": {},
     "output_type": "execute_result"
    }
   ],
   "source": [
    "3629+1915150+1"
   ]
  },
  {
   "cell_type": "code",
   "execution_count": null,
   "metadata": {},
   "outputs": [],
   "source": []
  },
  {
   "cell_type": "code",
   "execution_count": null,
   "metadata": {},
   "outputs": [],
   "source": []
  },
  {
   "cell_type": "code",
   "execution_count": null,
   "metadata": {},
   "outputs": [],
   "source": []
  },
  {
   "cell_type": "code",
   "execution_count": null,
   "metadata": {},
   "outputs": [],
   "source": []
  }
 ],
 "metadata": {
  "kernelspec": {
   "display_name": "word2vec",
   "language": "python",
   "name": "python3"
  },
  "language_info": {
   "codemirror_mode": {
    "name": "ipython",
    "version": 3
   },
   "file_extension": ".py",
   "mimetype": "text/x-python",
   "name": "python",
   "nbconvert_exporter": "python",
   "pygments_lexer": "ipython3",
   "version": "3.10.10"
  },
  "orig_nbformat": 4
 },
 "nbformat": 4,
 "nbformat_minor": 2
}
